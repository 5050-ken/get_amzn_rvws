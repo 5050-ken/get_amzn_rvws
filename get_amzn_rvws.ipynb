{
  "cells": [
    {
      "cell_type": "markdown",
      "metadata": {
        "id": "view-in-github",
        "colab_type": "text"
      },
      "source": [
        "<a href=\"https://colab.research.google.com/github/5050-ken/get_amzn_rvws/blob/main/get_amzn_rvws.ipynb\" target=\"_parent\"><img src=\"https://colab.research.google.com/assets/colab-badge.svg\" alt=\"Open In Colab\"/></a>"
      ]
    },
    {
      "cell_type": "code",
      "source": [
        "import bs4         \n",
        "import requests    \n",
        "# import textwrap    \n",
        "import time\n",
        "import pandas as pd\n",
        "\n",
        "# レビュー取得したい商品のurl指定\n",
        "amzn_url = 'https://www.amazon.co.jp/%E4%B8%80%E7%95%AA%E6%90%BE%E3%82%8A-%E3%82%AD%E3%83%AA%E3%83%B3-350ml%C3%9724%E6%9C%AC/dp/B01BM9ECRE/ref=sr_1_5?keywords=%E4%B8%80%E7%95%AA%E6%90%BE%E3%82%8A&qid=1648989092&sr=8-5'\n",
        "\n",
        "# 出力されるcsvファイル指定\n",
        "output_name = 'test.csv'\n",
        "\n",
        " \n",
        "# 全ページ分をリストにする\n",
        "def get_all_reviews(url):\n",
        "    rvw_list = []\n",
        "    i = 1\n",
        "    while True:\n",
        "        print(i,'searching')\n",
        "        i += 1\n",
        "        res = requests.get(url)\n",
        "        print(res)\n",
        "\n",
        "        # 503エラーの場合リトライ\n",
        "        if res.status_code == 503:\n",
        "            print('retry')\n",
        "            retry_num = 0\n",
        "            while True:\n",
        "                res = requests.get(url)\n",
        "                retry_num += 1\n",
        "                if res.status_code == 200:\n",
        "                    break\n",
        "                elif retry_num >= 9: #上限１０回\n",
        "                    break\n",
        "\n",
        "        # ページ情報取得\n",
        "        amazon_soup = bs4.BeautifulSoup(res.text, features='lxml')\n",
        "\n",
        "        # レビュータイトル\n",
        "        rvw_title = amazon_soup.select('.review-title.a-color-base')\n",
        "\n",
        "        # レビュー日付\n",
        "        rvw_date = amazon_soup.select('.a-size-base.a-color-secondary.review-date')\n",
        "        \n",
        "        # スター数\n",
        "        rvw_stars = amazon_soup.select('i.a-icon.a-icon-star.review-rating')\n",
        "        \n",
        "        # レビュー内容\n",
        "        rvw_content = amazon_soup.select('.review-text')\n",
        "\n",
        "        # 上位レビュー削除（日付と星のタグが同じ為）\n",
        "        del rvw_date[0:2]\n",
        "        del rvw_stars[0:2]\n",
        "\n",
        "        # 取得レビュー格納\n",
        "        for current_index, title in enumerate(rvw_title):\n",
        "            rvws = []\n",
        "            rvws.append(rvw_title[current_index].text)\n",
        "            rvws.append(rvw_date[current_index].text)\n",
        "            rvws.append(rvw_stars[current_index].text)\n",
        "            rvws.append(rvw_content[current_index].text)\n",
        "\n",
        "            rvw_list.append(rvws)\n",
        "             \n",
        "        # 次へボタン\n",
        "        next_page = amazon_soup.select('li.a-last a')   \n",
        " \n",
        "        if next_page != []:    \n",
        "            next_url = 'https://www.amazon.co.jp/' + next_page[0].attrs['href']    \n",
        "            url = next_url\n",
        "            # 最低でも1秒は間隔をあける\n",
        "            time.sleep(1)       \n",
        "        else:\n",
        "            print(\"----------- done！ -----------\")\n",
        "            break\n",
        " \n",
        "    return rvw_list\n",
        " \n",
        "if __name__ == '__main__':\n",
        "     \n",
        "    # URLをレビューページのものに書き換える\n",
        "    new_url = amzn_url.replace('dp', 'product-reviews')\n",
        "\n",
        "    # レビューの取得\n",
        "    rvw_list = get_all_reviews(new_url)\n",
        "\n",
        "    # csv出力\n",
        "    rvw_list_df = pd.DataFrame(rvw_list)\n",
        "    rvw_list_df.columns = ['title','date','stars','review_comment']\n",
        "    rvw_list_df.to_csv(output_name)"
      ],
      "metadata": {
        "colab": {
          "base_uri": "https://localhost:8080/"
        },
        "id": "9YiKC9TOkYeJ",
        "outputId": "87482361-d8b8-41c5-c6fb-9c1f7e18c72c"
      },
      "execution_count": 4,
      "outputs": [
        {
          "output_type": "stream",
          "name": "stdout",
          "text": [
            "1 searching\n",
            "<Response [200]>\n",
            "2 searching\n",
            "<Response [200]>\n",
            "3 searching\n",
            "<Response [200]>\n",
            "4 searching\n",
            "<Response [200]>\n",
            "5 searching\n",
            "<Response [200]>\n",
            "6 searching\n",
            "<Response [200]>\n",
            "7 searching\n",
            "<Response [200]>\n",
            "8 searching\n",
            "<Response [200]>\n",
            "9 searching\n",
            "<Response [200]>\n",
            "10 searching\n",
            "<Response [200]>\n",
            "11 searching\n",
            "<Response [200]>\n",
            "12 searching\n",
            "<Response [200]>\n",
            "13 searching\n",
            "<Response [503]>\n",
            "retry\n",
            "14 searching\n",
            "<Response [200]>\n",
            "15 searching\n",
            "<Response [200]>\n",
            "16 searching\n",
            "<Response [200]>\n",
            "17 searching\n",
            "<Response [200]>\n",
            "18 searching\n",
            "<Response [503]>\n",
            "retry\n",
            "19 searching\n",
            "<Response [503]>\n",
            "retry\n",
            "20 searching\n",
            "<Response [200]>\n",
            "21 searching\n",
            "<Response [503]>\n",
            "retry\n",
            "22 searching\n",
            "<Response [503]>\n",
            "retry\n",
            "23 searching\n",
            "<Response [200]>\n",
            "24 searching\n",
            "<Response [200]>\n",
            "----------- done！ -----------\n"
          ]
        }
      ]
    },
    {
      "cell_type": "code",
      "source": [
        "!pwd"
      ],
      "metadata": {
        "colab": {
          "base_uri": "https://localhost:8080/"
        },
        "id": "DLPEQTIL51n9",
        "outputId": "4d6356a0-0973-4b40-983f-ee23c55fbf36"
      },
      "execution_count": 91,
      "outputs": [
        {
          "output_type": "stream",
          "name": "stdout",
          "text": [
            "/content\n"
          ]
        }
      ]
    }
  ],
  "metadata": {
    "colab": {
      "collapsed_sections": [],
      "name": "get_amzn_rvws",
      "provenance": [],
      "include_colab_link": true
    },
    "kernelspec": {
      "display_name": "Python 3",
      "name": "python3"
    }
  },
  "nbformat": 4,
  "nbformat_minor": 0
}